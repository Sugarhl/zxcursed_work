{
 "cells": [
  {
   "cell_type": "markdown",
   "id": "bc684ec2",
   "metadata": {},
   "source": [
    "# Занятие 2\n",
    "# Алгебра\n",
    "## Решение систем линейных алгебраических уравнений (СЛАУ)\n",
    "\n",
    "https://docs.sympy.org/latest/modules/solvers/solveset.html#sympy.solvers.solveset.linsolve"
   ]
  },
  {
   "cell_type": "code",
   "execution_count": null,
   "id": "ed8fb5be",
   "metadata": {},
   "outputs": [],
   "source": [
    "import sympy\n",
    "from sympy import linsolve, Matrix, S, Symbol, symbols, Eq, linear_eq_to_matrix, simplify"
   ]
  },
  {
   "cell_type": "markdown",
   "id": "22610152",
   "metadata": {},
   "source": [
    "Решить СЛАУ, представив их тремя различными способами (расширенная матрица, список уравнений, матричный вид)\n",
    "$$\n",
    "a)\\ \\left\\{\n",
    "\\begin{matrix}\n",
    "-x+5y-3z=8\\\\\n",
    "4x-y+5z=-1\\\\\n",
    "3x+4y+5z=10\n",
    "\\end{matrix}\n",
    "\\right., \\quad \n",
    "b)\\ \\left\\{\n",
    "\\begin{matrix}\n",
    "-x+5y-3z=8\\\\\n",
    "4x-y+5z=-1\\\\\n",
    "3x+4y+2z=7\n",
    "\\end{matrix}\n",
    "\\right., \\quad \n",
    "c)\\ \\left\\{\n",
    "\\begin{matrix}\n",
    "-x+5y-3z=8\\\\\n",
    "4x-y+5z=-1\\\\\n",
    "3x+4y+2z=5\n",
    "\\end{matrix}\n",
    "\\right.\n",
    "$$"
   ]
  },
  {
   "cell_type": "code",
   "execution_count": null,
   "id": "c73d6308",
   "metadata": {},
   "outputs": [],
   "source": [
    "# YOUR CODE HERE :)"
   ]
  },
  {
   "cell_type": "markdown",
   "id": "a91a10a4",
   "metadata": {},
   "source": [
    "Решить СЛАУ с параметром $a$, представив их списком уравнений, а затем приведя к матричному виду с помощью linear_eq_to_matrix\n",
    "$$\n",
    "a)\\ \\left\\{\n",
    "\\begin{matrix}\n",
    "ax+5y-3z=8\\\\\n",
    "4x-y+5z=-1\\\\\n",
    "3x+4y+5z=10\n",
    "\\end{matrix}\n",
    "\\right., \\quad \n",
    "b)\\ \\left\\{\n",
    "\\begin{matrix}\n",
    "(a-1)x+5y-3z=8\\\\\n",
    "(4+a)x-y+5z=-1\\\\\n",
    "(3+2a)x+4y+2z=7\n",
    "\\end{matrix}\n",
    "\\right., \\quad \n",
    "c) \\left\\{\n",
    "\\begin{matrix}\n",
    "-x+5y-3z=8a\\\\\n",
    "4x-ay+5z=-a\\\\\n",
    "3x+4y+2z=5a\n",
    "\\end{matrix}\n",
    "\\right.\n",
    "$$\n",
    "Решить СЛАУ а) при $a=-82/25$, b) при $a=-19/6$, $-3.17$ и $-3.167$, c) при $a=1$.\n",
    "\n",
    "Проанализировать результаты. Для каждого случая (кроме случая несовместной СЛАУ) провести проверку подстановкой.\n",
    "\n",
    "При подстановке дробей пользоваться конструкцией вида $S(num)/den$, например,\n",
    "$S(2)/3$"
   ]
  },
  {
   "cell_type": "code",
   "execution_count": null,
   "id": "24d788eb",
   "metadata": {},
   "outputs": [],
   "source": [
    "# YOUR CODE HERE :)"
   ]
  },
  {
   "cell_type": "markdown",
   "id": "4e58f6c2",
   "metadata": {},
   "source": [
    "В расширенной матрице СЛАУ из Задания 1 а) \n",
    "\n",
    "1) выделить матрицу левой части\n",
    "\n",
    "2) выделить столбец правой части\n",
    "\n",
    "3) транспонировать матрицу, полученную в 1)\n",
    "\n",
    "4) получить расширенную матрицу из матрицы 3) и столбца 2)\n",
    "\n",
    "5) создать на основе лямбда-функции матрицу $3\\times 4$ из расположенных в шахматном порядке чисел 1 и $-1$."
   ]
  },
  {
   "cell_type": "code",
   "execution_count": null,
   "id": "abc7d41a",
   "metadata": {},
   "outputs": [],
   "source": [
    "# YOUR CODE HERE :)"
   ]
  },
  {
   "cell_type": "markdown",
   "id": "3f32da2c",
   "metadata": {},
   "source": [
    "Решить СЛАУ c параметром тремя способами. Вначале составить список уравнений и решить вторым способом, затем список уравнений преобразовать в матричный вид и решить третьим способом. Затем составить из матрицы левой части и столбца правой расширенную матрицу СЛАУ и решить первым способом. После этого провести проверку подстановкой.\n",
    "\n",
    "Затем отдельно рассмотреть значение параметра, при котором решение СЛАУ нельзя получить по общей формуле, полученной ранее.\n",
    "Найти решение СЛАУ при этом значении параметра первым или третьим способом, используя подстановку subs.\n",
    "\n",
    "$$\n",
    "\\left\\{\\begin{matrix}\n",
    "9 x_{0} + x_{1} - 10 x_{2} + 9 x_{3} + 7 x_{4} \\\\ \n",
    "3 x_{0} - 2 x_{1} + 4 x_{2} + 6 x_{3} + 10 x_{4} \\\\ \n",
    "p x_{1} - 2 x_{0} - 8 x_{2} - 8 x_{3} + 10 x_{4} \\\\ \n",
    "\\end{matrix}\\right.\n",
    "$$\n"
   ]
  },
  {
   "cell_type": "code",
   "execution_count": null,
   "id": "52b65afb",
   "metadata": {},
   "outputs": [],
   "source": [
    "# YOUR CODE HERE :)"
   ]
  }
 ],
 "metadata": {},
 "nbformat": 4,
 "nbformat_minor": 5
}
