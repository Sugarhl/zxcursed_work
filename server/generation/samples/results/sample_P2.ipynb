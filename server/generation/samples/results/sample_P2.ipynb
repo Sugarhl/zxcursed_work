{
 "cells": [
  {
   "cell_type": "markdown",
   "id": "747a34b7",
   "metadata": {},
   "source": [
    "# Занятие 2\n",
    "# Алгебра\n",
    "## Решение систем линейных алгебраических уравнений (СЛАУ)\n",
    "\n",
    "https://docs.sympy.org/latest/modules/solvers/solveset.html#sympy.solvers.solveset.linsolve"
   ]
  },
  {
   "cell_type": "code",
   "execution_count": null,
   "id": "07df8173",
   "metadata": {},
   "outputs": [],
   "source": [
    "import sympy\n",
    "from sympy import linsolve, Matrix, S, Symbol, symbols, Eq, linear_eq_to_matrix, simplify"
   ]
  },
  {
   "cell_type": "markdown",
   "id": "90246dab",
   "metadata": {},
   "source": [
    "Решить СЛАУ, представив их тремя различными способами (расширенная матрица, список уравнений, матричный вид)\n",
    "$$\n",
    "a)\\ \\left\\{\n",
    "\\begin{matrix}\n",
    "-x+5y-3z=8\\\\\n",
    "4x-y+5z=-1\\\\\n",
    "3x+4y+5z=10\n",
    "\\end{matrix}\n",
    "\\right., \\quad \n",
    "b)\\ \\left\\{\n",
    "\\begin{matrix}\n",
    "-x+5y-3z=8\\\\\n",
    "4x-y+5z=-1\\\\\n",
    "3x+4y+2z=7\n",
    "\\end{matrix}\n",
    "\\right., \\quad \n",
    "c)\\ \\left\\{\n",
    "\\begin{matrix}\n",
    "-x+5y-3z=8\\\\\n",
    "4x-y+5z=-1\\\\\n",
    "3x+4y+2z=5\n",
    "\\end{matrix}\n",
    "\\right.\n",
    "$$"
   ]
  },
  {
   "cell_type": "code",
   "execution_count": null,
   "id": "26cde5c1",
   "metadata": {},
   "outputs": [],
   "source": [
    "# YOUR CODE HERE :)"
   ]
  },
  {
   "cell_type": "markdown",
   "id": "80fda8f6",
   "metadata": {},
   "source": [
    "Решить СЛАУ с параметром $a$, представив их списком уравнений, а затем приведя к матричному виду с помощью linear_eq_to_matrix\n",
    "$$\n",
    "a)\\ \\left\\{\n",
    "\\begin{matrix}\n",
    "ax+5y-3z=8\\\\\n",
    "4x-y+5z=-1\\\\\n",
    "3x+4y+5z=10\n",
    "\\end{matrix}\n",
    "\\right., \\quad \n",
    "b)\\ \\left\\{\n",
    "\\begin{matrix}\n",
    "(a-1)x+5y-3z=8\\\\\n",
    "(4+a)x-y+5z=-1\\\\\n",
    "(3+2a)x+4y+2z=7\n",
    "\\end{matrix}\n",
    "\\right., \\quad \n",
    "c) \\left\\{\n",
    "\\begin{matrix}\n",
    "-x+5y-3z=8a\\\\\n",
    "4x-ay+5z=-a\\\\\n",
    "3x+4y+2z=5a\n",
    "\\end{matrix}\n",
    "\\right.\n",
    "$$\n",
    "Решить СЛАУ а) при $a=-82/25$, b) при $a=-19/6$, $-3.17$ и $-3.167$, c) при $a=1$.\n",
    "\n",
    "Проанализировать результаты. Для каждого случая (кроме случая несовместной СЛАУ) провести проверку подстановкой.\n",
    "\n",
    "При подстановке дробей пользоваться конструкцией вида $S(num)/den$, например,\n",
    "$S(2)/3$"
   ]
  },
  {
   "cell_type": "code",
   "execution_count": null,
   "id": "43bf0ab7",
   "metadata": {},
   "outputs": [],
   "source": [
    "# YOUR CODE HERE :)"
   ]
  },
  {
   "cell_type": "markdown",
   "id": "5a060ea5",
   "metadata": {},
   "source": [
    "В расширенной матрице СЛАУ из Задания 1 а) \n",
    "\n",
    "1) выделить матрицу левой части\n",
    "\n",
    "2) выделить столбец правой части\n",
    "\n",
    "3) транспонировать матрицу, полученную в 1)\n",
    "\n",
    "4) получить расширенную матрицу из матрицы 3) и столбца 2)\n",
    "\n",
    "5) создать на основе лямбда-функции матрицу $3\\times 4$ из расположенных в шахматном порядке чисел 1 и $-1$."
   ]
  },
  {
   "cell_type": "code",
   "execution_count": null,
   "id": "5c1d65b7",
   "metadata": {},
   "outputs": [],
   "source": [
    "# YOUR CODE HERE :)"
   ]
  },
  {
   "cell_type": "markdown",
   "id": "6a5431bb",
   "metadata": {},
   "source": [
    "Решить СЛАУ c параметром тремя способами. Вначале составить список уравнений и решить вторым способом, затем список уравнений преобразовать в матричный вид и решить третьим способом. Затем составить из матрицы левой части и столбца правой расширенную матрицу СЛАУ и решить первым способом. После этого провести проверку подстановкой.\n",
    "\n",
    "Затем отдельно рассмотреть значение параметра, при котором решение СЛАУ нельзя получить по общей формуле, полученной ранее.\n",
    "Найти решение СЛАУ при этом значении параметра первым или третьим способом, используя подстановку subs.\n",
    "\n",
    "$$\n",
    "\\left\\{\\begin{matrix}\n",
    "- 7 x_{0} + 8 x_{1} + 5 x_{2} - 2 x_{3} + 4 x_{4} \\\\ \n",
    "- 6 x_{0} + 3 x_{1} + 10 x_{3} - 7 x_{4} \\\\ \n",
    "p x_{4} + 3 x_{0} - 3 x_{1} - 3 x_{3} \\\\ \n",
    "\\end{matrix}\\right.\n",
    "$$\n"
   ]
  },
  {
   "cell_type": "code",
   "execution_count": null,
   "id": "d9ffc3b5",
   "metadata": {},
   "outputs": [],
   "source": [
    "# YOUR CODE HERE :)"
   ]
  }
 ],
 "metadata": {},
 "nbformat": 4,
 "nbformat_minor": 5
}
