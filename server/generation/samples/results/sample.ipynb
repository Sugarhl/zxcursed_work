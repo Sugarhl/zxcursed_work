{
 "cells": [
  {
   "cell_type": "markdown",
   "id": "2306a952",
   "metadata": {},
   "source": [
    "# Q1: Write a Python function that returns the sum of two numbers"
   ]
  },
  {
   "cell_type": "code",
   "execution_count": null,
   "id": "b9c2e409",
   "metadata": {},
   "outputs": [],
   "source": [
    "def add_numbers(a, b):\n",
    "    return a + b"
   ]
  },
  {
   "cell_type": "markdown",
   "id": "a657103b",
   "metadata": {},
   "source": [
    "# Q2: Write a Python function that returns the product of two numbers"
   ]
  },
  {
   "cell_type": "code",
   "execution_count": null,
   "id": "67cf191e",
   "metadata": {},
   "outputs": [],
   "source": [
    "def multiply_numbers(a, b):\n",
    "    return a * b"
   ]
  },
  {
   "cell_type": "markdown",
   "id": "b9767c3d",
   "metadata": {},
   "source": [
    "# Q3: Write a Python function that takes a list of numbers and returns the sum of those numbers"
   ]
  },
  {
   "cell_type": "code",
   "execution_count": null,
   "id": "20db1e5c",
   "metadata": {},
   "outputs": [],
   "source": [
    "def sum_list(numbers):\n",
    "    return sum(numbers)"
   ]
  },
  {
   "cell_type": "markdown",
   "id": "f4d42ce5",
   "metadata": {},
   "source": [
    "# Q4: Write a Python function that takes a string and returns the length of that string"
   ]
  },
  {
   "cell_type": "code",
   "execution_count": null,
   "id": "534991f4",
   "metadata": {},
   "outputs": [],
   "source": [
    "def string_length(string):\n",
    "    return len(string)"
   ]
  }
 ],
 "metadata": {},
 "nbformat": 4,
 "nbformat_minor": 5
}
