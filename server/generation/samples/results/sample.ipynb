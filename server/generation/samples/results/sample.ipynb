{
 "cells": [
  {
   "cell_type": "markdown",
   "id": "693de11b",
   "metadata": {},
   "source": [
    "# Q1: Write a Python function that returns the sum of two numbers"
   ]
  },
  {
   "cell_type": "code",
   "execution_count": null,
   "id": "dd28709d",
   "metadata": {},
   "outputs": [],
   "source": [
    "def add_numbers(a, b):\n",
    "    return a + b"
   ]
  },
  {
   "cell_type": "markdown",
   "id": "b4058eff",
   "metadata": {},
   "source": [
    "# Q2: Write a Python function that returns the product of two numbers"
   ]
  },
  {
   "cell_type": "code",
   "execution_count": null,
   "id": "633cd965",
   "metadata": {},
   "outputs": [],
   "source": [
    "def multiply_numbers(a, b):\n",
    "    return a * b"
   ]
  },
  {
   "cell_type": "markdown",
   "id": "f7f63f52",
   "metadata": {},
   "source": [
    "# Q3: Write a Python function that takes a list of numbers and returns the sum of those numbers"
   ]
  },
  {
   "cell_type": "code",
   "execution_count": null,
   "id": "1cd10f18",
   "metadata": {},
   "outputs": [],
   "source": [
    "def sum_list(numbers):\n",
    "    return sum(numbers)"
   ]
  },
  {
   "cell_type": "markdown",
   "id": "429cfa34",
   "metadata": {},
   "source": [
    "# Q4: Write a Python function that takes a string and returns the length of that string"
   ]
  },
  {
   "cell_type": "code",
   "execution_count": null,
   "id": "5aa25fcd",
   "metadata": {},
   "outputs": [],
   "source": [
    "def string_length(string):\n",
    "    return len(string)"
   ]
  }
 ],
 "metadata": {},
 "nbformat": 4,
 "nbformat_minor": 5
}
