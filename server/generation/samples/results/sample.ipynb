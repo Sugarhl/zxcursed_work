{
 "cells": [
  {
   "cell_type": "markdown",
   "id": "b2fd4a12",
   "metadata": {},
   "source": [
    "# Q1: Write a Python function that returns the sum of two numbers"
   ]
  },
  {
   "cell_type": "code",
   "execution_count": null,
   "id": "0a242a19",
   "metadata": {},
   "outputs": [],
   "source": [
    "def add_numbers(a, b):\n",
    "    return a + b"
   ]
  },
  {
   "cell_type": "markdown",
   "id": "9359ae73",
   "metadata": {},
   "source": [
    "# Q2: Write a Python function that returns the product of two numbers"
   ]
  },
  {
   "cell_type": "code",
   "execution_count": null,
   "id": "a3918484",
   "metadata": {},
   "outputs": [],
   "source": [
    "def multiply_numbers(a, b):\n",
    "    return a * b"
   ]
  },
  {
   "cell_type": "markdown",
   "id": "2ee712d4",
   "metadata": {},
   "source": [
    "# Q3: Write a Python function that takes a list of numbers and returns the sum of those numbers"
   ]
  },
  {
   "cell_type": "code",
   "execution_count": null,
   "id": "d29bd4ef",
   "metadata": {},
   "outputs": [],
   "source": [
    "def sum_list(numbers):\n",
    "    return sum(numbers)"
   ]
  },
  {
   "cell_type": "markdown",
   "id": "e50e0da9",
   "metadata": {},
   "source": [
    "# Q4: Write a Python function that takes a string and returns the length of that string"
   ]
  },
  {
   "cell_type": "code",
   "execution_count": null,
   "id": "7fa5f085",
   "metadata": {},
   "outputs": [],
   "source": [
    "def string_length(string):\n",
    "    return len(string)"
   ]
  }
 ],
 "metadata": {},
 "nbformat": 4,
 "nbformat_minor": 5
}
