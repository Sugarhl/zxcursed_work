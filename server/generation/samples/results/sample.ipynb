{
 "cells": [
  {
   "cell_type": "markdown",
   "id": "49914ad6",
   "metadata": {},
   "source": [
    "# Q1: Write a Python function that returns the sum of two numbers"
   ]
  },
  {
   "cell_type": "code",
   "execution_count": null,
   "id": "b75f9b85",
   "metadata": {},
   "outputs": [],
   "source": [
    "def add_numbers(a, b):\n",
    "    return a + b"
   ]
  },
  {
   "cell_type": "markdown",
   "id": "46d0b8be",
   "metadata": {},
   "source": [
    "# Q2: Write a Python function that returns the product of two numbers"
   ]
  },
  {
   "cell_type": "code",
   "execution_count": null,
   "id": "f13e431c",
   "metadata": {},
   "outputs": [],
   "source": [
    "def multiply_numbers(a, b):\n",
    "    return a * b"
   ]
  },
  {
   "cell_type": "markdown",
   "id": "fe1ba5bd",
   "metadata": {},
   "source": [
    "# Q3: Write a Python function that takes a list of numbers and returns the sum of those numbers"
   ]
  },
  {
   "cell_type": "code",
   "execution_count": null,
   "id": "f6ea8680",
   "metadata": {},
   "outputs": [],
   "source": [
    "def sum_list(numbers):\n",
    "    return sum(numbers)"
   ]
  },
  {
   "cell_type": "markdown",
   "id": "6b34c513",
   "metadata": {},
   "source": [
    "# Q4: Write a Python function that takes a string and returns the length of that string"
   ]
  },
  {
   "cell_type": "code",
   "execution_count": null,
   "id": "272a9e96",
   "metadata": {},
   "outputs": [],
   "source": [
    "def string_length(string):\n",
    "    return len(string)"
   ]
  }
 ],
 "metadata": {},
 "nbformat": 4,
 "nbformat_minor": 5
}
