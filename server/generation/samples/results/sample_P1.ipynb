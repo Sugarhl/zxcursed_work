{
 "cells": [
  {
   "cell_type": "markdown",
   "id": "7fffa194",
   "metadata": {},
   "source": [
    "# Практическое занятие 1\n",
    "# Компьютерный практикум по алгебре на Python\n",
    "\n",
    "https://docs.sympy.org/latest/tutorial/intro.html"
   ]
  },
  {
   "cell_type": "code",
   "execution_count": null,
   "id": "5a8a4d4c",
   "metadata": {},
   "outputs": [],
   "source": [
    "# Вначале для простоты будем подключать модуль sympy целиком\n",
    "from sympy import *"
   ]
  },
  {
   "cell_type": "markdown",
   "id": "2b95116d",
   "metadata": {},
   "source": [
    "## Действия с числами, числовые выражения\n",
    "Об основных типах данных Python 3.10 читайте здесь:\n",
    "https://docs.python.org/3/reference/datamodel.html#index-19\n",
    "\n",
    "Сейчас нам понадобятся типы:\n",
    "\n",
    "int - целое число (насколько большим оно может быть, зависит только от объема доступной памяти)\n",
    "\n",
    "float - вещественное число (double precision floating point numbers)\n",
    "\n",
    "### Задание 1.\n",
    "Вычислите значение выражения\n",
    "$$\n",
    "3\\left(2^{4}+6\\sin\\frac{\\pi}{4}-5\\sqrt{2}\\right)\n",
    "$$"
   ]
  },
  {
   "cell_type": "code",
   "execution_count": null,
   "id": "38b8f163",
   "metadata": {},
   "outputs": [],
   "source": [
    "# YOUR CODE HERE :)"
   ]
  },
  {
   "cell_type": "markdown",
   "id": "5db39e7a",
   "metadata": {},
   "source": [
    "## Символы, символьные выражения\n",
    "Для аналитических преобразований в sympy используется класс Symbol\n",
    "\n",
    "https://docs.sympy.org/latest/modules/core.html?highlight=symbol#module-sympy.core.symbol\n",
    "\n",
    "В этом классе есть метод Symbol для создания одного символа.\n",
    "###  Задание 2.\n",
    "Создайте символ $t$ и составьте выражение $\\frac{\\sqrt{t}+t^3}{t-1}$"
   ]
  },
  {
   "cell_type": "code",
   "execution_count": null,
   "id": "15d3ca47",
   "metadata": {},
   "outputs": [],
   "source": [
    "# YOUR CODE HERE :)"
   ]
  },
  {
   "cell_type": "markdown",
   "id": "a597eb25",
   "metadata": {},
   "source": [
    "## Операции с символьными выражениями: simplify, expand,factor,collect\n",
    "#### simplify\n",
    "используется для упрощения выражения\n",
    "#### expand \n",
    "используется для раскрытия скобок\n",
    "#### factor \n",
    "для разложения на множители\n",
    "#### collect \n",
    "для группировки по степеням переменной\n",
    "###  Задание 3.\n",
    "Упростите выражение\n",
    "$$\n",
    "\\frac{(u+v)^2-4uv}{u-v}+2v-1\n",
    "$$"
   ]
  },
  {
   "cell_type": "code",
   "execution_count": null,
   "id": "2ae09669",
   "metadata": {},
   "outputs": [],
   "source": [
    "# YOUR CODE HERE :)"
   ]
  },
  {
   "cell_type": "markdown",
   "id": "ee3b3065",
   "metadata": {},
   "source": [
    "###  Задание 4.\n",
    "Раскройте скобки в выражении $(a_1+a_2+a_3)^3-(a_1-a_2)^2$"
   ]
  },
  {
   "cell_type": "code",
   "execution_count": null,
   "id": "f57ad6fc",
   "metadata": {},
   "outputs": [],
   "source": [
    "# YOUR CODE HERE :)"
   ]
  },
  {
   "cell_type": "markdown",
   "id": "e5433cbf",
   "metadata": {},
   "source": [
    "###  Задание 5.\n",
    "Разложите на множители\n",
    "$2u^4+3u^3v-2u^2v^2-2u^2v-3uv^2+2v^3$"
   ]
  },
  {
   "cell_type": "code",
   "execution_count": null,
   "id": "2ca8561f",
   "metadata": {},
   "outputs": [],
   "source": [
    "# YOUR CODE HERE :)"
   ]
  },
  {
   "cell_type": "markdown",
   "id": "8951e8d3",
   "metadata": {},
   "source": [
    "###  Задание 6.\n",
    "Сгруппируйте выражение из Задания 5 по степеням $u$."
   ]
  },
  {
   "cell_type": "code",
   "execution_count": null,
   "id": "c87f0b4c",
   "metadata": {},
   "outputs": [],
   "source": [
    "# YOUR CODE HERE :)"
   ]
  },
  {
   "cell_type": "markdown",
   "id": "aeb9c2f8",
   "metadata": {},
   "source": [
    "## Списки и кортежи\n",
    "Нам понадобятся два итерируемых типа\n",
    "\n",
    "#### списки list\n",
    "изменяемый тип\n",
    "#### кортежи tuple\n",
    "неизменяемый тип\n",
    "\n",
    "### Задание 7\n",
    "Создайте список $Powers$ из трех кортежей, состоящих из символов $x$, $y$ и $z$ в степени, равной номеру кортежа в списке."
   ]
  },
  {
   "cell_type": "code",
   "execution_count": null,
   "id": "bf21e4ce",
   "metadata": {},
   "outputs": [],
   "source": [
    "# YOUR CODE HERE :)"
   ]
  },
  {
   "cell_type": "markdown",
   "id": "5799ddfe",
   "metadata": {},
   "source": [
    "### Задание 8\n",
    "В списке Powers Задания 7 заменить $(x^2,y^2,z^2)$ на (0,0,0)."
   ]
  },
  {
   "cell_type": "code",
   "execution_count": null,
   "id": "18af3cdd",
   "metadata": {},
   "outputs": [],
   "source": [
    "# YOUR CODE HERE :)"
   ]
  },
  {
   "cell_type": "markdown",
   "id": "3bfbc4a3",
   "metadata": {},
   "source": [
    "## Матрицы\n",
    "### Задание 9\n",
    "Составить матрицу  $A_{3\\times 4}$ из чисел вида $3k+1$, $k=1,2,...$:\n",
    "$$\n",
    "A=\n",
    "\\left(\n",
    "\\begin{matrix}\n",
    "4& 7& 10& 13\\\\\n",
    "16& 19& 22& 25\\\\\n",
    "28& 31& 34& 37\n",
    "\\end{matrix}\n",
    "\\right)\n",
    "$$"
   ]
  },
  {
   "cell_type": "code",
   "execution_count": null,
   "id": "e309bba5",
   "metadata": {},
   "outputs": [],
   "source": [
    "# YOUR CODE HERE :)"
   ]
  },
  {
   "cell_type": "markdown",
   "id": "b5ae0e3e",
   "metadata": {},
   "source": [
    "### Задание 10\n",
    "В матрице А задания 9 удалить вторую строку и вставить третий столбец между первым и вторым (сам третий столбец не удалять!), должно получиться\n",
    "$$\n",
    "A=\n",
    "\\left(\n",
    "\\begin{matrix}\n",
    "4& 10& 7& 10& 13\\\\\n",
    "28& 34& 31& 34& 37\n",
    "\\end{matrix}\n",
    "\\right)\n",
    "$$"
   ]
  },
  {
   "cell_type": "code",
   "execution_count": null,
   "id": "f67ac86e",
   "metadata": {},
   "outputs": [],
   "source": [
    "# YOUR CODE HERE :)"
   ]
  },
  {
   "cell_type": "markdown",
   "id": "cae05a61",
   "metadata": {},
   "source": [
    "### Индивидуальное задание\n",
    "Составить матрицу левой части СЛАУ, вектор-столбец переменных, вектор-столбец правой части, вектор-столбец $X_0$. Показать, что $X_0$ является решением данной СЛАУ.\n",
    "\n",
    "N2\n",
    "\n",
    "\\begin{align*}\n",
    "\\left\\{\\begin{matrix}\n",
    "- 6 x_{1} + 3 x_{2} + 5 x_{3} + 4 x_{4} + 10 x_{5} = -19 \\\\ \n",
    "4 x_{1} + 4 x_{2} + 2 x_{3} + 9 x_{4} = 20 \\\\ \n",
    "- 9 x_{1} - 7 x_{2} + 8 x_{3} + 4 x_{4} - 8 x_{5} = -153 \\\\ \n",
    "\\end{matrix}\\right.\\qquad X_0=\\left[\\begin{matrix}9 & 8 & 3 & -6 & 2 \\end{matrix}\\right]\\end{align*}\n"
   ]
  },
  {
   "cell_type": "code",
   "execution_count": null,
   "id": "7bd847fb",
   "metadata": {},
   "outputs": [],
   "source": [
    "# YOUR CODE HERE :)"
   ]
  }
 ],
 "metadata": {},
 "nbformat": 4,
 "nbformat_minor": 5
}
