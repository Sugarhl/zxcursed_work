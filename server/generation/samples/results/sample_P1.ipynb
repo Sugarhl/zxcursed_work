{
 "cells": [
  {
   "cell_type": "markdown",
   "id": "323670cb",
   "metadata": {},
   "source": [
    "Копия блокнота \"Alg_1_2021_22_tasks.ipynb\"\n",
    "# Практическое занятие 1\n",
    "# Компьютерный практикум по алгебре на Python\n",
    "\n",
    "https://docs.sympy.org/latest/tutorial/intro.html"
   ]
  },
  {
   "cell_type": "code",
   "execution_count": null,
   "id": "6a48295e",
   "metadata": {},
   "outputs": [],
   "source": [
    "# Вначале для простоты будем подключать модуль sympy целиком\n",
    "from sympy import *"
   ]
  },
  {
   "cell_type": "markdown",
   "id": "c39b62a7",
   "metadata": {},
   "source": [
    "## Действия с числами, числовые выражения\n",
    "Об основных типах данных Python 3.10 читайте здесь:\n",
    "https://docs.python.org/3/reference/datamodel.html#index-19\n",
    "\n",
    "Сейчас нам понадобятся типы:\n",
    "\n",
    "int - целое число (насколько большим оно может быть, зависит только от объема доступной памяти)\n",
    "\n",
    "float - вещественное число (double precision floating point numbers)\n",
    "\n",
    "### Задание 1.\n",
    "Вычислите значение выражения\n",
    "$$\n",
    "3\\left(2^{4}+6\\sin\\frac{\\pi}{4}-5\\sqrt{2}\\right)\n",
    "$$"
   ]
  },
  {
   "cell_type": "code",
   "execution_count": null,
   "id": "76c5b5aa",
   "metadata": {},
   "outputs": [],
   "source": [
    "# YOUR CODE HERE :)"
   ]
  },
  {
   "cell_type": "markdown",
   "id": "50d6e6b9",
   "metadata": {},
   "source": [
    "## Символы, символьные выражения\n",
    "Для аналитических преобразований в sympy используется класс Symbol\n",
    "\n",
    "https://docs.sympy.org/latest/modules/core.html?highlight=symbol#module-sympy.core.symbol\n",
    "\n",
    "В этом классе есть метод Symbol для создания одного символа.\n",
    "###  Задание 2.\n",
    "Создайте символ $t$ и составьте выражение $\\frac{\\sqrt{t}+t^3}{t-1}$"
   ]
  },
  {
   "cell_type": "code",
   "execution_count": null,
   "id": "207e1f85",
   "metadata": {},
   "outputs": [],
   "source": [
    "# YOUR CODE HERE :)"
   ]
  },
  {
   "cell_type": "markdown",
   "id": "839cf4b1",
   "metadata": {},
   "source": [
    "## Операции с символьными выражениями: simplify, expand,factor,collect\n",
    "#### simplify\n",
    "используется для упрощения выражения\n",
    "#### expand \n",
    "используется для раскрытия скобок\n",
    "#### factor \n",
    "для разложения на множители\n",
    "#### collect \n",
    "для группировки по степеням переменной\n",
    "###  Задание 3.\n",
    "Упростите выражение\n",
    "$$\n",
    "\\frac{(u+v)^2-4uv}{u-v}+2v-1\n",
    "$$"
   ]
  },
  {
   "cell_type": "code",
   "execution_count": null,
   "id": "3faf08be",
   "metadata": {},
   "outputs": [],
   "source": [
    "# YOUR CODE HERE :)"
   ]
  },
  {
   "cell_type": "markdown",
   "id": "960a76ca",
   "metadata": {},
   "source": [
    "###  Задание 4.\n",
    "Раскройте скобки в выражении $(a_1+a_2+a_3)^3-(a_1-a_2)^2$"
   ]
  },
  {
   "cell_type": "code",
   "execution_count": null,
   "id": "b6a8761c",
   "metadata": {},
   "outputs": [],
   "source": [
    "# YOUR CODE HERE :)"
   ]
  },
  {
   "cell_type": "markdown",
   "id": "b7061b67",
   "metadata": {},
   "source": [
    "###  Задание 5.\n",
    "Разложите на множители\n",
    "$2u^4+3u^3v-2u^2v^2-2u^2v-3uv^2+2v^3$"
   ]
  },
  {
   "cell_type": "code",
   "execution_count": null,
   "id": "d36a8139",
   "metadata": {},
   "outputs": [],
   "source": [
    "# YOUR CODE HERE :)"
   ]
  },
  {
   "cell_type": "markdown",
   "id": "bfe02d97",
   "metadata": {},
   "source": [
    "###  Задание 6.\n",
    "Сгруппируйте выражение из Задания 5 по степеням $u$."
   ]
  },
  {
   "cell_type": "code",
   "execution_count": null,
   "id": "21ce2485",
   "metadata": {},
   "outputs": [],
   "source": [
    "# YOUR CODE HERE :)"
   ]
  },
  {
   "cell_type": "markdown",
   "id": "0e45d507",
   "metadata": {},
   "source": [
    "## Списки и кортежи\n",
    "Нам понадобятся два итерируемых типа\n",
    "\n",
    "#### списки list\n",
    "изменяемый тип\n",
    "#### кортежи tuple\n",
    "неизменяемый тип\n",
    "\n",
    "### Задание 7\n",
    "Создайте список $Powers$ из трех кортежей, состоящих из символов $x$, $y$ и $z$ в степени, равной номеру кортежа в списке."
   ]
  },
  {
   "cell_type": "code",
   "execution_count": null,
   "id": "b0699e64",
   "metadata": {},
   "outputs": [],
   "source": [
    "# YOUR CODE HERE :)"
   ]
  },
  {
   "cell_type": "markdown",
   "id": "62b9d8d3",
   "metadata": {},
   "source": [
    "### Задание 8\n",
    "В списке Powers Задания 7 заменить $(x^2,y^2,z^2)$ на (0,0,0)."
   ]
  },
  {
   "cell_type": "code",
   "execution_count": null,
   "id": "556b3121",
   "metadata": {},
   "outputs": [],
   "source": [
    "# YOUR CODE HERE :)"
   ]
  },
  {
   "cell_type": "markdown",
   "id": "faac4111",
   "metadata": {},
   "source": [
    "## Матрицы\n",
    "### Задание 9\n",
    "Составить матрицу  $A_{3\\times 4}$ из чисел вида $3k+1$, $k=1,2,...$:\n",
    "$$\n",
    "A=\n",
    "\\left(\n",
    "\\begin{matrix}\n",
    "4& 7& 10& 13\\\\\n",
    "16& 19& 22& 25\\\\\n",
    "28& 31& 34& 37\n",
    "\\end{matrix}\n",
    "\\right)\n",
    "$$"
   ]
  },
  {
   "cell_type": "code",
   "execution_count": null,
   "id": "a1085317",
   "metadata": {},
   "outputs": [],
   "source": [
    "# YOUR CODE HERE :)"
   ]
  },
  {
   "cell_type": "markdown",
   "id": "a9926ed9",
   "metadata": {},
   "source": [
    "### Задание 10\n",
    "В матрице А задания 9 удалить вторую строку и вставить третий столбец между первым и вторым (сам третий столбец не удалять!), должно получиться\n",
    "$$\n",
    "A=\n",
    "\\left(\n",
    "\\begin{matrix}\n",
    "4& 10& 7& 10& 13\\\\\n",
    "28& 34& 31& 34& 37\n",
    "\\end{matrix}\n",
    "\\right)\n",
    "$$"
   ]
  },
  {
   "cell_type": "code",
   "execution_count": null,
   "id": "fe035eb5",
   "metadata": {},
   "outputs": [],
   "source": [
    "# YOUR CODE HERE :)"
   ]
  },
  {
   "cell_type": "markdown",
   "id": "a3fb9f1e",
   "metadata": {},
   "source": [
    "### Индивидуальное задание\n",
    "Составить матрицу левой части СЛАУ, вектор-столбец переменных, вектор-столбец правой части, вектор-столбец $X_0$. Показать, что $X_0$ является решением данной СЛАУ.\n",
    "\n",
    "N2\n",
    "\\begin{align*}\n",
    "\\left\\{\\begin{matrix}\n",
    "-6 x_{1} +2 x_{2} +3 x_{3} +9 x_{4} -9 x_{5} = -16 \\\\ \n",
    "1 x_{1} +2 x_{2} +0 x_{3} -5 x_{4} +6 x_{5} = 52 \\\\ \n",
    "-5 x_{1} +8 x_{2} -1 x_{3} +9 x_{4} -3 x_{5} = 65 \\\\ \n",
    "\\end{matrix}\\right.\\qquad X_0=\\left[\\begin{matrix}-5 & 7 & 1 & 1 & 8 \\end{matrix}\\right]\\end{align*}\n"
   ]
  },
  {
   "cell_type": "code",
   "execution_count": null,
   "id": "f49f5744",
   "metadata": {},
   "outputs": [],
   "source": [
    "# YOUR CODE HERE :)"
   ]
  }
 ],
 "metadata": {},
 "nbformat": 4,
 "nbformat_minor": 5
}
