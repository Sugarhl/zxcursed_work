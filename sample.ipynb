{
 "cells": [
  {
   "cell_type": "markdown",
   "id": "8ca460fc",
   "metadata": {},
   "source": [
    "# Q1: Write a Python function that returns the sum of two numbers"
   ]
  },
  {
   "cell_type": "code",
   "execution_count": null,
   "id": "dfb33e6f",
   "metadata": {},
   "outputs": [],
   "source": [
    "def add_numbers(a, b):\n",
    "    return a + b"
   ]
  },
  {
   "cell_type": "markdown",
   "id": "409dc247",
   "metadata": {},
   "source": [
    "# Q2: Write a Python function that returns the product of two numbers"
   ]
  },
  {
   "cell_type": "code",
   "execution_count": null,
   "id": "161e1a2e",
   "metadata": {},
   "outputs": [],
   "source": [
    "def multiply_numbers(a, b):\n",
    "    return a * b"
   ]
  },
  {
   "cell_type": "markdown",
   "id": "5d83f2e4",
   "metadata": {},
   "source": [
    "# Q3: Write a Python function that takes a list of numbers and returns the sum of those numbers"
   ]
  },
  {
   "cell_type": "code",
   "execution_count": null,
   "id": "8d21979b",
   "metadata": {},
   "outputs": [],
   "source": [
    "def sum_list(numbers):\n",
    "    return sum(numbers)"
   ]
  },
  {
   "cell_type": "markdown",
   "id": "f4c71eff",
   "metadata": {},
   "source": [
    "# Q4: Write a Python function that takes a string and returns the length of that string"
   ]
  },
  {
   "cell_type": "code",
   "execution_count": null,
   "id": "b3cbc5fc",
   "metadata": {},
   "outputs": [],
   "source": [
    "def string_length(string):\n",
    "    return len(string)"
   ]
  }
 ],
 "metadata": {},
 "nbformat": 4,
 "nbformat_minor": 5
}
